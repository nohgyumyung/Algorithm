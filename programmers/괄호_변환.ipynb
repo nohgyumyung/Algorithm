{
 "cells": [
  {
   "cell_type": "markdown",
   "metadata": {},
   "source": [
    "https://programmers.co.kr/learn/courses/30/lessons/60058"
   ]
  },
  {
   "cell_type": "code",
   "execution_count": 104,
   "metadata": {},
   "outputs": [],
   "source": [
    "# '올바른 괄호 문자열'이라면 True 반환\n",
    "def check(p):\n",
    "    cnt = 0 \n",
    "    \n",
    "    for i in p:\n",
    "        if i == '(':\n",
    "            cnt += 1\n",
    "        else:\n",
    "            cnt -= 1\n",
    "            \n",
    "        # ')'가 '('의 수보다 커지면 False 반환\n",
    "        if cnt < 0:\n",
    "            return False\n",
    "        \n",
    "    return True\n",
    "\n",
    "\n",
    "def solution(p):\n",
    "    # 빈 문자열인지 확인\n",
    "    if p == '':\n",
    "        return ''\n",
    "    \n",
    "    # '올바른 괄호 문자열'인지 확인\n",
    "    if check(p):\n",
    "        return p\n",
    "    \n",
    "    # 아니라면 p를 u, v로 분리 후\n",
    "    for i in range(1, len(p) + 1):\n",
    "        if p[:i].count('(') == p[:i].count(')'):\n",
    "            u = p[:i]\n",
    "            v = p[i:]\n",
    "            break\n",
    "    \n",
    "    # 1) u가 '올바른 괄호 문자열'인 경우\n",
    "    if check(u):\n",
    "        return u + solution(v) \n",
    "    # 2) u가 '올바른 괄호 문자열'이 아닌 경우\n",
    "    else:\n",
    "        u = ''.join(['(' if i == ')' else ')' for i in u[1:-1]])\n",
    "        return '(' + solution(v) + ')' + u"
   ]
  }
 ],
 "metadata": {
  "kernelspec": {
   "display_name": "Python 3",
   "language": "python",
   "name": "python3"
  },
  "language_info": {
   "codemirror_mode": {
    "name": "ipython",
    "version": 3
   },
   "file_extension": ".py",
   "mimetype": "text/x-python",
   "name": "python",
   "nbconvert_exporter": "python",
   "pygments_lexer": "ipython3",
   "version": "3.7.6"
  }
 },
 "nbformat": 4,
 "nbformat_minor": 4
}
