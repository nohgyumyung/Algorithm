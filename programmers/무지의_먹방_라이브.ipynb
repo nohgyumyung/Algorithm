{
 "cells": [
  {
   "cell_type": "markdown",
   "metadata": {},
   "source": [
    "https://programmers.co.kr/learn/courses/30/lessons/42891"
   ]
  },
  {
   "cell_type": "markdown",
   "metadata": {},
   "source": [
    "효율성 개선 필요"
   ]
  },
  {
   "cell_type": "code",
   "execution_count": 73,
   "metadata": {},
   "outputs": [],
   "source": [
    "def solution(food_times, k):\n",
    "    food_num = len(food_times)\n",
    "    cur = 0\n",
    "\n",
    "    while True:\n",
    "        if k == -1: # 다음 먹을 위치를 알아내기 위해 0이 아닌 -1\n",
    "            cur -= 1\n",
    "            food_times[cur % food_num] += 1\n",
    "            break        \n",
    "        if sum(food_times) == 0:\n",
    "            break\n",
    "            \n",
    "        if food_times[cur % food_num] != 0:\n",
    "            food_times[cur % food_num] -= 1\n",
    "            k -= 1\n",
    "        cur += 1\n",
    "\n",
    "    if sum(food_times) == 0:\n",
    "        return -1\n",
    "    else:\n",
    "        return cur % food_len + 1"
   ]
  },
  {
   "cell_type": "code",
   "execution_count": 75,
   "metadata": {},
   "outputs": [
    {
     "data": {
      "text/plain": [
       "1"
      ]
     },
     "execution_count": 75,
     "metadata": {},
     "output_type": "execute_result"
    }
   ],
   "source": [
    "solution([3, 1, 2], 5)"
   ]
  }
 ],
 "metadata": {
  "kernelspec": {
   "display_name": "Python 3",
   "language": "python",
   "name": "python3"
  },
  "language_info": {
   "codemirror_mode": {
    "name": "ipython",
    "version": 3
   },
   "file_extension": ".py",
   "mimetype": "text/x-python",
   "name": "python",
   "nbconvert_exporter": "python",
   "pygments_lexer": "ipython3",
   "version": "3.7.6"
  }
 },
 "nbformat": 4,
 "nbformat_minor": 4
}
