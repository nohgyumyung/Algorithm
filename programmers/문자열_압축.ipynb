{
 "cells": [
  {
   "cell_type": "markdown",
   "metadata": {},
   "source": [
    "https://programmers.co.kr/learn/courses/30/lessons/60057"
   ]
  },
  {
   "cell_type": "code",
   "execution_count": 105,
   "metadata": {},
   "outputs": [],
   "source": [
    "import math\n",
    "\n",
    "def solution(s):\n",
    "    min_len = 999999999\n",
    "    \n",
    "    # 모든 문자의 수 단위로 list 생성\n",
    "    for i in range(1, len(s) + 1):\n",
    "        s_split = []\n",
    "        for j in range(math.ceil(len(s) / i)):\n",
    "            s_split.append(s[j * i : (j + 1) * i])\n",
    "        s_split.append('')\n",
    "        \n",
    "        # 문자열 압축\n",
    "        s_short = []\n",
    "        tmp = ''\n",
    "        cnt = 0\n",
    "        for j in range(len(s_split)-1):\n",
    "            if s_split[j] == s_split[j+1]:\n",
    "                cnt += 1\n",
    "            else:\n",
    "                if s_split[j] == tmp: \n",
    "                    cnt += 1\n",
    "                    s_short.append('{}{}'.format(cnt, tmp))\n",
    "                else: \n",
    "                    s_short.append('{}'.format(s_split[j]))\n",
    "                cnt = 0\n",
    "            tmp = s_split[j]\n",
    "        \n",
    "        # 압축된 문자열 길이 측정 및 min_len과 비교\n",
    "        s_short_len = len(''.join(s_short))\n",
    "        min_len = min(s_short_len, min_len)\n",
    "\n",
    "    return min_len"
   ]
  },
  {
   "cell_type": "code",
   "execution_count": 106,
   "metadata": {},
   "outputs": [
    {
     "data": {
      "text/plain": [
       "7"
      ]
     },
     "execution_count": 106,
     "metadata": {},
     "output_type": "execute_result"
    }
   ],
   "source": [
    "solution('aabbaccc')"
   ]
  }
 ],
 "metadata": {
  "kernelspec": {
   "display_name": "Python 3",
   "language": "python",
   "name": "python3"
  },
  "language_info": {
   "codemirror_mode": {
    "name": "ipython",
    "version": 3
   },
   "file_extension": ".py",
   "mimetype": "text/x-python",
   "name": "python",
   "nbconvert_exporter": "python",
   "pygments_lexer": "ipython3",
   "version": "3.7.6"
  }
 },
 "nbformat": 4,
 "nbformat_minor": 4
}
