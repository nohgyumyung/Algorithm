{
 "cells": [
  {
   "cell_type": "markdown",
   "metadata": {},
   "source": [
    "https://programmers.co.kr/learn/courses/30/lessons/60059"
   ]
  },
  {
   "cell_type": "code",
   "execution_count": 20,
   "metadata": {},
   "outputs": [],
   "source": [
    "import numpy as np\n",
    "import copy\n",
    "\n",
    "\n",
    "def rotate(key):\n",
    "    rotate_key = [[] for i in range(len(key))]\n",
    "\n",
    "    for row in range(len(key)):\n",
    "        for col in range(len(key)):\n",
    "                   rotate_key[row].append(key[col][row])\n",
    "        rotate_key[row].reverse()\n",
    "        \n",
    "    return rotate_key\n",
    "    \n",
    "    \n",
    "def solution(key, lock):\n",
    "    k = len(key)\n",
    "    l = len(lock)\n",
    "    pass_code = np.ones((l, l))\n",
    "\n",
    "    # 자물쇠 3x3 열쇠 3x3의 경우 중앙 3x3이 자물쇠와 일치하는 7x7 새로운 자물쇠 생성\n",
    "    new_lock = np.zeros((l + 2 * (k - 1),l + 2 * (k - 1)))\n",
    "    new_lock[k - 1:k - 1 + l, k - 1:k - 1 + l] = lock\n",
    "    \n",
    "    for i in range(4):\n",
    "        key = rotate(key)\n",
    "        \n",
    "        for row in range(l + k - 1):\n",
    "            for col in range(l + k - 1):\n",
    "                tmp = copy.deepcopy(new_lock)\n",
    "                tmp[row: row + k, col: col + k] += key\n",
    "                if np.array_equal(tmp[k - 1:k - 1 + l, k - 1:k - 1 + l], pass_code):\n",
    "                    return True  \n",
    "                \n",
    "    return False"
   ]
  },
  {
   "cell_type": "code",
   "execution_count": 21,
   "metadata": {},
   "outputs": [
    {
     "data": {
      "text/plain": [
       "True"
      ]
     },
     "execution_count": 21,
     "metadata": {},
     "output_type": "execute_result"
    }
   ],
   "source": [
    "solution([[0, 0, 0], [1, 0, 0], [0, 1, 1]], [[1, 1, 1], [1, 1, 0], [1, 0, 1]])"
   ]
  }
 ],
 "metadata": {
  "kernelspec": {
   "display_name": "Python 3",
   "language": "python",
   "name": "python3"
  },
  "language_info": {
   "codemirror_mode": {
    "name": "ipython",
    "version": 3
   },
   "file_extension": ".py",
   "mimetype": "text/x-python",
   "name": "python",
   "nbconvert_exporter": "python",
   "pygments_lexer": "ipython3",
   "version": "3.7.6"
  }
 },
 "nbformat": 4,
 "nbformat_minor": 4
}
