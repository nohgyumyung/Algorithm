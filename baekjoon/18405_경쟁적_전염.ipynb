{
 "cells": [
  {
   "cell_type": "markdown",
   "metadata": {},
   "source": [
    "https://www.acmicpc.net/problem/18405"
   ]
  },
  {
   "cell_type": "code",
   "execution_count": 138,
   "metadata": {},
   "outputs": [
    {
     "name": "stdout",
     "output_type": "stream",
     "text": [
      "3 3\n",
      "1 0 2\n",
      "0 0 0\n",
      "3 0 0\n",
      "2 3 2\n",
      "3\n"
     ]
    }
   ],
   "source": [
    "from collections import deque\n",
    "\n",
    "N, K = list(map(int, input().split()))\n",
    "graph = [list(map(int, input().split())) for i in range(N)]\n",
    "S, X, Y = list(map(int, input().split()))\n",
    "\n",
    "info = []\n",
    "\n",
    "for i in range(N):\n",
    "    for j in range(N):\n",
    "        if graph[i][j] != 0:\n",
    "            info.append((graph[i][j], i, j, 0))\n",
    "            \n",
    "info.sort()\n",
    "queue = deque(info) # queue는 (바이러스 번호, x축, y축, 초)로 구성\n",
    "\n",
    "while queue:\n",
    "    n, x, y, s = queue.popleft()\n",
    "    if s == S:\n",
    "        break\n",
    "\n",
    "    for i, j in [(x + 1, y), (x - 1, y), (x, y + 1), (x, y - 1)]:\n",
    "        if i < N and i >= 0 and j < N and j >= 0:\n",
    "            if graph[i][j] == 0:\n",
    "                queue.append((n, i, j, s + 1))\n",
    "                graph[i][j] = n\n",
    "\n",
    "print(graph[X - 1][Y - 1])"
   ]
  }
 ],
 "metadata": {
  "kernelspec": {
   "display_name": "Python 3",
   "language": "python",
   "name": "python3"
  },
  "language_info": {
   "codemirror_mode": {
    "name": "ipython",
    "version": 3
   },
   "file_extension": ".py",
   "mimetype": "text/x-python",
   "name": "python",
   "nbconvert_exporter": "python",
   "pygments_lexer": "ipython3",
   "version": "3.7.6"
  }
 },
 "nbformat": 4,
 "nbformat_minor": 4
}
