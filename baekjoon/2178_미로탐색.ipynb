{
 "cells": [
  {
   "cell_type": "markdown",
   "metadata": {},
   "source": [
    "https://www.acmicpc.net/problem/2178"
   ]
  },
  {
   "cell_type": "code",
   "execution_count": 72,
   "metadata": {},
   "outputs": [
    {
     "name": "stdout",
     "output_type": "stream",
     "text": [
      "4 6\n",
      "101111\n",
      "101010\n",
      "101011\n",
      "111011\n",
      "15\n"
     ]
    }
   ],
   "source": [
    "n, m = map(int, input().split(' '))\n",
    "\n",
    "graph = []\n",
    "\n",
    "for i in range(n):\n",
    "    graph.append(list(input()))\n",
    "    \n",
    "def bfs(graph, n, m, visited):\n",
    "    queue = [(0, 0, 1)]\n",
    "    visited[0][0] = True\n",
    "    \n",
    "    distance = []\n",
    "    \n",
    "    while queue:\n",
    "        x, y, d = queue.pop(0)\n",
    "        \n",
    "        # (n, m)일 때 거리 \n",
    "        if (x, y) == (n, m):\n",
    "            distance.append(d)\n",
    "            \n",
    "        # 상하좌우 갈 수 있는 경로 확인\n",
    "        for i, j in [[x - 1, y], [x + 1, y], [x, y + 1], [x, y - 1]]:\n",
    "            if i < 0 or i > n or j < 0 or j > m:\n",
    "                continue\n",
    "            if graph[i][j] == '1' and visited[i][j] == False:\n",
    "                queue.append((i, j, d + 1))\n",
    "                visited[i][j] = True\n",
    "                \n",
    "    return min(distance)\n",
    "\n",
    "visited = [[False] * m for i in range(n)]\n",
    "distance = bfs(graph, n - 1, m - 1, visited)\n",
    "print(distance)"
   ]
  }
 ],
 "metadata": {
  "kernelspec": {
   "display_name": "Python 3",
   "language": "python",
   "name": "python3"
  },
  "language_info": {
   "codemirror_mode": {
    "name": "ipython",
    "version": 3
   },
   "file_extension": ".py",
   "mimetype": "text/x-python",
   "name": "python",
   "nbconvert_exporter": "python",
   "pygments_lexer": "ipython3",
   "version": "3.7.6"
  }
 },
 "nbformat": 4,
 "nbformat_minor": 4
}
