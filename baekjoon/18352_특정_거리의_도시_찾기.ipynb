{
 "cells": [
  {
   "cell_type": "markdown",
   "metadata": {},
   "source": [
    "https://www.acmicpc.net/problem/18352"
   ]
  },
  {
   "cell_type": "code",
   "execution_count": null,
   "metadata": {},
   "outputs": [],
   "source": [
    "import sys\n",
    "\n",
    "N, M, K, X = list(map(int, sys.stdin.readline().split(' ')))\n",
    "\n",
    "edges = [[] for i in range(N)]\n",
    "\n",
    "for i in range(M):\n",
    "    edge = list(map(int, sys.stdin.readline().split(' ')))\n",
    "    edges[edge[0] - 1].append(edge[1])\n",
    "        \n",
    "visited = [False] * N\n",
    "\n",
    "# 처음 방문할 도시를 탐색할 도시에 추가 및 방문 처리\n",
    "nodes = [(X, 0)]\n",
    "visited[X - 1] = True\n",
    "\n",
    "# BFS 사용 최단 거리가 K인 도시 탐색\n",
    "while True:\n",
    "    # 최단 거리가 K인 도시가 없는 경우\n",
    "    if len(nodes) == 0:\n",
    "        break\n",
    "\n",
    "    # 최단 거리가 K인 도시만 남았을 때\n",
    "    if nodes[0][1] == K:\n",
    "        break\n",
    "    \n",
    "    # 현재 위치한 도시 및 거리\n",
    "    node, distance = nodes.pop(0)\n",
    "    \n",
    "    # 현재 위치한 도시로부터 갈 수 있는 도시들\n",
    "    for n in edges[node - 1]:\n",
    "        # 방문하지 않은 도시만 탐색 -> 이미 방문한 도시는 최단거리가 K이하\n",
    "        if not visited[n - 1]:\n",
    "            # 방문 처리 후 앞으로 탐색할 도시에 추가\n",
    "            visited[n - 1] = True\n",
    "            nodes.append((n, distance + 1))\n",
    "            \n",
    "# 오름차순 출력\n",
    "if len(nodes) == 0:\n",
    "    print(-1)\n",
    "else:\n",
    "    sort_nodes = [n[0] for n in nodes]\n",
    "    sort_nodes.sort()\n",
    "    for n in sort_nodes:\n",
    "        print(n)"
   ]
  }
 ],
 "metadata": {
  "kernelspec": {
   "display_name": "Python 3",
   "language": "python",
   "name": "python3"
  },
  "language_info": {
   "codemirror_mode": {
    "name": "ipython",
    "version": 3
   },
   "file_extension": ".py",
   "mimetype": "text/x-python",
   "name": "python",
   "nbconvert_exporter": "python",
   "pygments_lexer": "ipython3",
   "version": "3.7.6"
  }
 },
 "nbformat": 4,
 "nbformat_minor": 4
}
