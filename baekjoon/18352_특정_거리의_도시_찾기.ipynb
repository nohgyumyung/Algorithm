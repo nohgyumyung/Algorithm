{
 "cells": [
  {
   "cell_type": "markdown",
   "metadata": {},
   "source": [
    "https://www.acmicpc.net/problem/18352"
   ]
  },
  {
   "cell_type": "code",
   "execution_count": null,
   "metadata": {},
   "outputs": [],
   "source": [
    "import sys\n",
    "from collections import deque\n",
    "\n",
    "N, M, K, X = list(map(int, sys.stdin.readline().split(' ')))\n",
    "\n",
    "graph = [[] for i in range(N + 1)]\n",
    "\n",
    "for i in range(M):\n",
    "    s, e = list(map(int, sys.stdin.readline().split(' ')))\n",
    "    graph[s].append(e)\n",
    "        \n",
    "def bfs(graph, visited, X, K):\n",
    "    # 처음 방문할 도시를 탐색할 도시에 추가 및 방문 처리\n",
    "    queue = deque([(X, 0)])\n",
    "    visited[X] = True\n",
    "    \n",
    "    while queue:      \n",
    "        # 최단 거리가 K인 도시만 남았을 때\n",
    "        if queue[0][1] == K:\n",
    "            break\n",
    "\n",
    "        # 현재 위치한 도시 및 거리\n",
    "        node, distance = queue.popleft()\n",
    "            \n",
    "        # 현재 위치한 도시로부터 갈 수 있는 도시들\n",
    "        for i in graph[node]:\n",
    "            # 방문하지 않은 도시만 탐색 -> 이미 방문한 도시는 최단거리가 K이하\n",
    "            if not visited[i]:\n",
    "                # 방문 처리 후 앞으로 탐색할 도시에 추가\n",
    "                visited[i] = True\n",
    "                queue.append((i, distance + 1))\n",
    "    \n",
    "    # 도시들만 리턴\n",
    "    nodes = [i[0] for i in queue]\n",
    "    return nodes\n",
    "    \n",
    "visited = [False] * (N + 1)\n",
    "nodes = bfs(graph, visited, X, K)\n",
    "\n",
    "# 최단거리가 k인 도시가 있다면 오름차순 출력\n",
    "if len(nodes) == 0:\n",
    "    print(-1)\n",
    "else:\n",
    "    for i in sorted(nodes):\n",
    "        print(i)"
   ]
  }
 ],
 "metadata": {
  "kernelspec": {
   "display_name": "Python 3",
   "language": "python",
   "name": "python3"
  },
  "language_info": {
   "codemirror_mode": {
    "name": "ipython",
    "version": 3
   },
   "file_extension": ".py",
   "mimetype": "text/x-python",
   "name": "python",
   "nbconvert_exporter": "python",
   "pygments_lexer": "ipython3",
   "version": "3.7.6"
  }
 },
 "nbformat": 4,
 "nbformat_minor": 4
}
