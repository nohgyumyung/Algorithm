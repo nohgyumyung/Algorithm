{
 "cells": [
  {
   "cell_type": "markdown",
   "metadata": {},
   "source": [
    "https://www.acmicpc.net/problem/18352"
   ]
  },
  {
   "cell_type": "markdown",
   "metadata": {},
   "source": [
    "실패"
   ]
  },
  {
   "cell_type": "code",
   "execution_count": 253,
   "metadata": {
    "scrolled": true
   },
   "outputs": [
    {
     "name": "stdout",
     "output_type": "stream",
     "text": [
      "4 4 2 1\n",
      "1 2\n",
      "1 3\n",
      "2 3\n",
      "2 4\n",
      "4\n"
     ]
    }
   ],
   "source": [
    "node_num, edge_num, distance, start = list(map(int, input().split(' ')))\n",
    "\n",
    "edges = [[] for i in range(node_num)]\n",
    "\n",
    "for i in range(edge_num):\n",
    "    tmp = list(map(int, input().split(' ')))\n",
    "    edges[tmp[0] - 1].append(tmp[1])\n",
    "\n",
    "    \n",
    "visited = [False] * node_num\n",
    "\n",
    "\n",
    "nodes = [(start, 0)]\n",
    "visited[start - 1] = True\n",
    "\n",
    "while True:    \n",
    "    if len(nodes) == 0:\n",
    "        print(-1)\n",
    "        break\n",
    "        \n",
    "    if nodes[0][1] == distance:\n",
    "        for i in nodes:\n",
    "            print(i[0])\n",
    "        break\n",
    "    \n",
    "    node, dist = nodes.pop(0)\n",
    "    \n",
    "    for i in edges[node - 1]:\n",
    "        if not visited[i - 1]:\n",
    "            visited[i - 1] = True\n",
    "            nodes.append((i, dist + 1))"
   ]
  }
 ],
 "metadata": {
  "kernelspec": {
   "display_name": "Python 3",
   "language": "python",
   "name": "python3"
  },
  "language_info": {
   "codemirror_mode": {
    "name": "ipython",
    "version": 3
   },
   "file_extension": ".py",
   "mimetype": "text/x-python",
   "name": "python",
   "nbconvert_exporter": "python",
   "pygments_lexer": "ipython3",
   "version": "3.7.6"
  }
 },
 "nbformat": 4,
 "nbformat_minor": 4
}
