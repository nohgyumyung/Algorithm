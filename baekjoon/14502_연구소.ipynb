{
 "cells": [
  {
   "cell_type": "markdown",
   "metadata": {},
   "source": [
    "https://www.acmicpc.net/problem/14502"
   ]
  },
  {
   "cell_type": "code",
   "execution_count": 2,
   "metadata": {},
   "outputs": [
    {
     "name": "stdout",
     "output_type": "stream",
     "text": [
      "7 7\n",
      "2 0 0 0 1 1 0\n",
      "0 0 1 0 1 2 0\n",
      "0 1 1 0 1 0 0\n",
      "0 1 0 0 0 0 0\n",
      "0 0 0 0 0 1 1\n",
      "0 1 0 0 0 0 0\n",
      "0 1 0 0 0 0 0\n",
      "27\n"
     ]
    }
   ],
   "source": [
    "from itertools import combinations\n",
    "from collections import deque\n",
    "import copy\n",
    "\n",
    "N, M = map(int, input().split())\n",
    "\n",
    "room = [list(map(int, input().split())) for i in range(N)]\n",
    "\n",
    "space = []\n",
    "virus = []\n",
    "\n",
    "for i in range(N):\n",
    "    for j in range(M):\n",
    "        if room[i][j] == 0:\n",
    "            space.append((i, j))\n",
    "        if room[i][j] == 2:\n",
    "            virus.append((i, j))\n",
    "\n",
    "# 바이러스 퍼뜨리기\n",
    "def bfs(r, virus):\n",
    "    queue = deque(virus)\n",
    "    \n",
    "    while queue:\n",
    "        x, y = queue.popleft()\n",
    "        for i, j in [(x + 1, y), (x - 1, y), (x, y + 1), (x, y - 1)]:\n",
    "            if i >= 0 and i < N and j >= 0 and j < M:\n",
    "                if r[i][j] == 0:\n",
    "                    r[i][j] = 2\n",
    "                    queue.append((i, j))    \n",
    "    return r\n",
    "\n",
    "# 안전지대 영역의 크기 구하기\n",
    "def safe_area(r):\n",
    "    area = 0\n",
    "    for i in r:\n",
    "        area += i.count(0) \n",
    "    return area\n",
    "\n",
    "safe_area_list = []\n",
    "\n",
    "# 벽을 설치할 수 있는 모든 경우의 수에 대해\n",
    "for pos in combinations(space, 3):\n",
    "    r = copy.deepcopy(room)\n",
    "    for i, j in pos:\n",
    "        r[i][j] = 1\n",
    "    r = bfs(r, virus)\n",
    "    safe_area_list.append(safe_area(r))\n",
    "    \n",
    "print(max(safe_area_list))"
   ]
  }
 ],
 "metadata": {
  "kernelspec": {
   "display_name": "Python 3",
   "language": "python",
   "name": "python3"
  },
  "language_info": {
   "codemirror_mode": {
    "name": "ipython",
    "version": 3
   },
   "file_extension": ".py",
   "mimetype": "text/x-python",
   "name": "python",
   "nbconvert_exporter": "python",
   "pygments_lexer": "ipython3",
   "version": "3.7.6"
  }
 },
 "nbformat": 4,
 "nbformat_minor": 4
}
