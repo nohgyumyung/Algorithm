{
 "cells": [
  {
   "cell_type": "markdown",
   "metadata": {},
   "source": [
    "https://www.acmicpc.net/problem/14888"
   ]
  },
  {
   "cell_type": "code",
   "execution_count": 36,
   "metadata": {},
   "outputs": [
    {
     "name": "stdout",
     "output_type": "stream",
     "text": [
      "6\n",
      "1 2 3 4 5 6\n",
      "2 1 1 1\n",
      "54\n",
      "-24\n"
     ]
    }
   ],
   "source": [
    "from itertools import permutations\n",
    "from collections import deque\n",
    "\n",
    "N = int(input())\n",
    "sequence = list(map(int, input().split()))\n",
    "count = list(map(int, input().split()))\n",
    "operators = ['+'] * count[0] + ['-'] * count[1] + ['*'] * count[2] + ['/'] * count[3]\n",
    "\n",
    "def calculate(equation):\n",
    "    queue = deque(equation)\n",
    "    result = queue.popleft()\n",
    "    \n",
    "    while queue:\n",
    "        operator = queue.popleft()\n",
    "        number = queue.popleft()\n",
    "        \n",
    "        if operator == '+':\n",
    "            result += number\n",
    "        elif operator == '-':\n",
    "            result -= number\n",
    "        elif operator == '*':\n",
    "            result *= number\n",
    "        else:\n",
    "            if result < 0:\n",
    "                result = -(-result // number)\n",
    "            else:\n",
    "                result = result // number\n",
    "                \n",
    "    return result\n",
    "\n",
    "results = []\n",
    "\n",
    "for i in set(permutations(operators, len(operators))):\n",
    "    equation = []\n",
    "    for j in range(len(i)):\n",
    "        equation.append(sequence[j])\n",
    "        equation.append(i[j])\n",
    "    equation.append(sequence[-1])\n",
    "    \n",
    "    results.append(calculate(equation))\n",
    "\n",
    "print(max(results))\n",
    "print(min(results))"
   ]
  }
 ],
 "metadata": {
  "kernelspec": {
   "display_name": "Python 3",
   "language": "python",
   "name": "python3"
  },
  "language_info": {
   "codemirror_mode": {
    "name": "ipython",
    "version": 3
   },
   "file_extension": ".py",
   "mimetype": "text/x-python",
   "name": "python",
   "nbconvert_exporter": "python",
   "pygments_lexer": "ipython3",
   "version": "3.7.6"
  }
 },
 "nbformat": 4,
 "nbformat_minor": 4
}
