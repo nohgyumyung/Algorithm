{
 "cells": [
  {
   "cell_type": "markdown",
   "metadata": {},
   "source": [
    "https://www.acmicpc.net/problem/1260"
   ]
  },
  {
   "cell_type": "code",
   "execution_count": 31,
   "metadata": {},
   "outputs": [
    {
     "name": "stdout",
     "output_type": "stream",
     "text": [
      "1000 1 1000\n",
      "999 1000\n",
      "1000 999 \n",
      "1000 999 "
     ]
    }
   ],
   "source": [
    "from collections import deque\n",
    "\n",
    "node, edge, start = list(map(int, input().split()))\n",
    "\n",
    "# graph[0]은 빈 list\n",
    "graph = [[] for i in range(node + 1)]\n",
    "\n",
    "for i in range(edge):\n",
    "    s, e = list(map(int, input().split()))\n",
    "    graph[s].append(e)\n",
    "    graph[e].append(s)    \n",
    "\n",
    "    \n",
    "def dfs(graph, v, visited):\n",
    "    visited[v] = True\n",
    "    print(v, end = ' ')\n",
    "    \n",
    "    for i in sorted(graph[v]):\n",
    "        if not visited[i]:\n",
    "            dfs(graph, i, visited)\n",
    "            \n",
    "            \n",
    "def bfs(graph, start, visited):\n",
    "    queue = deque([start])\n",
    "    visited[start] = True\n",
    "    \n",
    "    while queue:\n",
    "        v = queue.popleft()\n",
    "        print(v, end = ' ')\n",
    "        for i in sorted(graph[v]):\n",
    "            if not visited[i]:\n",
    "                queue.append(i)\n",
    "                visited[i] = True\n",
    "                \n",
    "                \n",
    "visited = [False] * (node + 1)\n",
    "dfs(graph, start, visited)\n",
    "print()\n",
    "visited = [False] * (node + 1)\n",
    "bfs(graph, start, visited)"
   ]
  }
 ],
 "metadata": {
  "kernelspec": {
   "display_name": "Python 3",
   "language": "python",
   "name": "python3"
  },
  "language_info": {
   "codemirror_mode": {
    "name": "ipython",
    "version": 3
   },
   "file_extension": ".py",
   "mimetype": "text/x-python",
   "name": "python",
   "nbconvert_exporter": "python",
   "pygments_lexer": "ipython3",
   "version": "3.7.6"
  }
 },
 "nbformat": 4,
 "nbformat_minor": 4
}
