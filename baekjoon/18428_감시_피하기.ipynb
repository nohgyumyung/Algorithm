{
 "cells": [
  {
   "cell_type": "markdown",
   "metadata": {},
   "source": [
    "https://www.acmicpc.net/problem/18428"
   ]
  },
  {
   "cell_type": "code",
   "execution_count": 41,
   "metadata": {},
   "outputs": [
    {
     "name": "stdout",
     "output_type": "stream",
     "text": [
      "5\n",
      "X S X X T\n",
      "T X S X X\n",
      "X X X X X\n",
      "X T X X X\n",
      "X X T X X\n",
      "YES\n"
     ]
    }
   ],
   "source": [
    "from itertools import combinations\n",
    "import copy\n",
    "\n",
    "n = int(input())\n",
    "\n",
    "room = [input().split(' ') for i in range(n)]\n",
    "\n",
    "space = []\n",
    "\n",
    "# 빈 공간 리스트 생성\n",
    "for i in range(n):\n",
    "    for j in range(n):\n",
    "        if room[i][j] == 'X':\n",
    "            space.append((i, j))\n",
    "            \n",
    "# 가로, 세로 방향으로 체크해서 가능한 수가 있다면 True 리턴\n",
    "def check(r):\n",
    "    for i in range(n):\n",
    "        row = ''.join(r[i]).split('O')\n",
    "        col = ''.join([r[j][i] for j in range(n)]).split('O')\n",
    "        for section in (row + col):\n",
    "            if ('S' in section) and ('T' in section):\n",
    "                return False\n",
    "    return True\n",
    "\n",
    "answer = 'NO'\n",
    "\n",
    "# 장애물이 위치 가능한 모든 경우의 수에 대해 확인\n",
    "for pos in combinations(space, 3):\n",
    "    r = copy.deepcopy(room)\n",
    "    for (i, j) in pos:\n",
    "        r[i][j] = 'O'\n",
    "         \n",
    "    if check(r):\n",
    "        answer = 'YES'\n",
    "                \n",
    "print(answer)"
   ]
  }
 ],
 "metadata": {
  "kernelspec": {
   "display_name": "Python 3",
   "language": "python",
   "name": "python3"
  },
  "language_info": {
   "codemirror_mode": {
    "name": "ipython",
    "version": 3
   },
   "file_extension": ".py",
   "mimetype": "text/x-python",
   "name": "python",
   "nbconvert_exporter": "python",
   "pygments_lexer": "ipython3",
   "version": "3.7.6"
  }
 },
 "nbformat": 4,
 "nbformat_minor": 4
}
