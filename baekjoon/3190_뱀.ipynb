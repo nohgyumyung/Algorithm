{
 "cells": [
  {
   "cell_type": "markdown",
   "metadata": {},
   "source": [
    "https://www.acmicpc.net/problem/3190"
   ]
  },
  {
   "cell_type": "code",
   "execution_count": 2,
   "metadata": {},
   "outputs": [
    {
     "name": "stdout",
     "output_type": "stream",
     "text": [
      "6\n",
      "3\n",
      "3 4\n",
      "2 5\n",
      "5 3\n",
      "3\n",
      "3 D\n",
      "15 L\n",
      "17 D\n",
      "9\n"
     ]
    }
   ],
   "source": [
    "n = int(input())\n",
    "\n",
    "apple_num = int(input())\n",
    "apple = []\n",
    "for i in range(apple_num):\n",
    "    tmp = input().split(' ')\n",
    "    apple.append([int(tmp[0]), int(tmp[1])])\n",
    "    \n",
    "change_num = int(input())\n",
    "change = {}\n",
    "for i in range(change_num):\n",
    "    tmp = input().split(' ')\n",
    "    change[int(tmp[0])] = tmp[1]\n",
    "    \n",
    "turn_r = [[0, 1], [1, 0], [0, -1], [-1, 0]]\n",
    "turn_l = [[0, 1], [-1, 0], [0, -1], [1, 0]]\n",
    "\n",
    "path= [[1, 1]]\n",
    "turn = [0, 1]\n",
    "sec = 0\n",
    "\n",
    "while True:        \n",
    "    # 방향 바꿔야하는 경우\n",
    "    if sec in change.keys():\n",
    "        if change[sec] == 'D':\n",
    "            turn = turn_r[(turn_r.index(turn) + 1) % 4]\n",
    "        else:\n",
    "            turn = turn_l[(turn_l.index(turn) + 1) % 4]\n",
    "    \n",
    "    # 뱀의 다음 경로\n",
    "    next_path = [(path[-1][0] + turn[0]), (path[-1][1] + turn[1])]\n",
    "    path.append(next_path)\n",
    "    sec += 1\n",
    "    \n",
    "    # 몸에 부딪히면 게임 종료\n",
    "    if path[-1] in path[:-1]:\n",
    "        break\n",
    "        \n",
    "    # 벽에 부딪히면 게임 종료\n",
    "    if path[-1][0] == 0 or path[-1][0] == (n + 1) or path[-1][1] == 0 or path[-1][1] == (n + 1):\n",
    "        break\n",
    "    \n",
    "    # 사과가 있는 경우 없는 경우\n",
    "    if next_path in apple:\n",
    "        apple.remove(next_path)\n",
    "    else:\n",
    "        path.pop(0)\n",
    "    \n",
    "print(sec)"
   ]
  }
 ],
 "metadata": {
  "kernelspec": {
   "display_name": "Python 3",
   "language": "python",
   "name": "python3"
  },
  "language_info": {
   "codemirror_mode": {
    "name": "ipython",
    "version": 3
   },
   "file_extension": ".py",
   "mimetype": "text/x-python",
   "name": "python",
   "nbconvert_exporter": "python",
   "pygments_lexer": "ipython3",
   "version": "3.7.6"
  }
 },
 "nbformat": 4,
 "nbformat_minor": 4
}
